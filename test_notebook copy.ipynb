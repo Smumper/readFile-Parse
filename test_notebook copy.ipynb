{
 "metadata": {
  "language_info": {
   "codemirror_mode": {
    "name": "ipython",
    "version": 3
   },
   "file_extension": ".py",
   "mimetype": "text/x-python",
   "name": "python",
   "nbconvert_exporter": "python",
   "pygments_lexer": "ipython3",
   "version": 3
  },
  "orig_nbformat": 2,
  "kernelspec": {
   "name": "python_defaultSpec_1596709888105",
   "display_name": "Python 3.7.3 64-bit"
  }
 },
 "nbformat": 4,
 "nbformat_minor": 2,
 "cells": [
  {
   "cell_type": "code",
   "execution_count": 33,
   "metadata": {
    "tags": []
   },
   "outputs": [
    {
     "output_type": "execute_result",
     "data": {
      "text/plain": "{262144: 'Systembereich',\n 131072: 'Kein Bereich',\n 65536: 'Area A',\n 32768: 'Area B',\n 16384: 'Area C',\n 8192: 'Area D',\n 4096: 'Area E',\n 2048: 'Area F',\n 1024: 'Area G',\n 512: 'Area H',\n 256: 'Area I',\n 128: 'Area J',\n 64: 'Area K',\n 32: 'Area L',\n 16: 'Area M',\n 8: 'Area N',\n 4: 'Area O'}"
     },
     "metadata": {},
     "execution_count": 33
    }
   ],
   "source": [
    "import types\n",
    "import itertools\n",
    "\n",
    "class DataToDict:\n",
    "   def __init__(self, func = None):\n",
    "      self.data = []\n",
    "      self.data_dict = {}\n",
    "      if func is not None:\n",
    "         self.execute = types.MethodType(func, self)\n",
    "\n",
    "   def execute(self):\n",
    "      print(self.data_dict)\n",
    "\n",
    "# Area in Dict wandeln\n",
    "def Area(self):\n",
    "    for count, line in enumerate(self.data[1:-1], start=-len(self.data) + 1,):\n",
    "        self.data_dict.update({2 ** abs(count): line.strip().split(\";\")[-1]})\n",
    "    return self.data_dict\n",
    "\n",
    "# msr Rec zu dict wandeln\n",
    "def MSRRec(self):\n",
    "    for line in itertools.islice(self.data, len(self.data)+1, len(self.data)-1 , 2):\n",
    "        self.data_dict.update({line.strip().split(\";\")[2]: line})\n",
    "    return self.data_dict\n",
    "\n",
    "\n",
    "# Pdata zu dict umwandeln\n",
    "def Pdata(self):\n",
    "    for pdata in range(0, len(data)):\n",
    "        if \"[LAD:MSR_REF]\" in data[pdata]:\n",
    "            msr_name = data[pdata].strip().split(\";\")[1]\n",
    "            self.data_dict.update({msr_name: data[pdata + 1]})\n",
    "    return self.data_dict\n",
    "\n",
    "\n",
    "\n",
    "test1 = DataToDict(Area)\n",
    "test1.data= ['[BEGIN_AREADEFINITION];17\\r\\n', '[AREA];1;!;13;Systembereich\\r\\n', '[AREA];1;-;12;Kein Bereich\\r\\n', '[AREA];1;A;6;Area A\\r\\n', '[AREA];1;B;6;Area B\\r\\n', '[AREA];1;C;6;Area C\\r\\n', '[AREA];1;D;6;Area D\\r\\n', '[AREA];1;E;6;Area E\\r\\n', '[AREA];1;F;6;Area F\\r\\n', '[AREA];1;G;6;Area G\\r\\n', '[AREA];1;H;6;Area H\\r\\n', '[AREA];1;I;6;Area I\\r\\n', '[AREA];1;J;6;Area J\\r\\n', '[AREA];1;K;6;Area K\\r\\n', '[AREA];1;L;6;Area L\\r\\n', '[AREA];1;M;6;Area M\\r\\n', '[AREA];1;N;6;Area N\\r\\n', '[AREA];1;O;6;Area O\\r\\n', '[NOAREA];0\\r\\n']\n",
    "test1.execute()\n",
    "\n"
   ]
  },
  {
   "cell_type": "code",
   "execution_count": null,
   "metadata": {},
   "outputs": [],
   "source": []
  }
 ]
}